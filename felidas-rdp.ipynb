{
  "nbformat": 4,
  "nbformat_minor": 0,
  "metadata": {
    "colab": {
      "name": "felidas-rdp.ipynb",
      "provenance": [],
      "collapsed_sections": [],
      "toc_visible": true,
      "include_colab_link": true
    },
    "kernelspec": {
      "name": "python3",
      "display_name": "Python 3"
    }
  },
  "cells": [
    {
      "cell_type": "markdown",
      "metadata": {
        "id": "view-in-github",
        "colab_type": "text"
      },
      "source": [
        "<a href=\"https://colab.research.google.com/github/FelidasNet/free-colab-rdp/blob/main/felidas-rdp.ipynb\" target=\"_parent\"><img src=\"https://colab.research.google.com/assets/colab-badge.svg\" alt=\"Open In Colab\"/></a>"
      ]
    },
    {
      "cell_type": "markdown",
      "metadata": {
        "id": "iLh_9SkSut4u"
      },
      "source": [
        "# **Colab RDP** : Colab Üzerinden Uzak Masaüstü Kullanmak\n",
        "\n",
        "> **Uyarı : Kripto Madenciliğine Uygun Değildir!<br></br>** \n",
        ">**T4 GPU'lar gibi donanım kaynakları neden benim için mevcut değil?** BT mevcut donanımı, uzun süreli hesaplamalar yerine Colaboratory'u etkileşimli olarak kullanan kullanıcılar için önceliklidir. Uzun süreli hesaplamalar için Colaboratory kullanan kullanıcılar, kendilerine sağlanan donanım türü ve / veya donanımın kullanılabileceği süre ile geçici olarak sınırlandırılabilir. Yerel bir çalışma zamanı olan Colaboratory’un kullanıcı arayüzünü kullanmak için yüksek hesaplama ihtiyacı olan kullanıcıları cesaretlendiriyoruz. Kripto madencilik için Colaboratory kullanmanın günlük olarak yasaklandığını ve Colab'ı kullanmanın tamamen yasaklanmasına neden olabileceğini lütfen unutmayın.\n",
        "\n",
        "Google Colab, Ücretsiz kullanıcılar için 12 saat boyunca (Maks.) 12 GB RAM ve GPU ile Örnek verebilir. Herkes Ağır Görevleri gerçekleştirmek için kullanabilir.\n",
        "\n",
        "Lütfen topluluğumuzdaki gönderiye girerek bize destekte bulunun: **[Bedava RDP/VPS Nasıl Alınır? 2021 Ücretsiz RDP/VDS/VPS Almak](https://felidas.net/d/283)**"
      ]
    },
    {
      "cell_type": "code",
      "metadata": {
        "id": "t4yNp3KmLtZ6",
        "cellView": "form"
      },
      "source": [
        "#@title **Kullanıcı Oluştur**\n",
        "#@markdown Kullanıcı Adı ve Şifre Girin\n",
        "\n",
        "import os\n",
        "\n",
        "username = \"user\" #@param {type:\"string\"}\n",
        "password = \"root\" #@param {type:\"string\"}\n",
        "\n",
        "print(\"Kullanıcı oluşturuluyor...\")\n",
        "\n",
        "# Creation of user\n",
        "os.system(f\"useradd -m {username}\")\n",
        "\n",
        "# Add user to sudo group\n",
        "os.system(f\"adduser {username} sudo\")\n",
        "    \n",
        "# Set password of user to 'root'\n",
        "os.system(f\"echo '{username}:{password}' | sudo chpasswd\")\n",
        "\n",
        "# Change default shell from sh to bash\n",
        "os.system(\"sed -i 's/\\/bin\\/sh/\\/bin\\/bash/g' /etc/passwd\")\n",
        "\n",
        "print(\"Kullanıcı başarıyla oluşturuldu!\")"
      ],
      "execution_count": null,
      "outputs": []
    },
    {
      "cell_type": "code",
      "metadata": {
        "id": "Q6bl1b0EifVG",
        "cellView": "form"
      },
      "source": [
        "#@title **RDP**\n",
        "#@markdown  Kurulum yaklaşık 4-5 dakika sürebilir\n",
        "\n",
        "import os\n",
        "import subprocess\n",
        "\n",
        "#@markdown Lütfen http://remotedesktop.google.com/headless adresini ziyaret edin ve oturum açtıktan sonra çıkan kodu kopyalayın\n",
        "\n",
        "CRP = \"\" #@param {type:\"string\"}\n",
        "\n",
        "#@markdown Lütfen 6 ya da daha fazla sayıdan oluşan bir PIN girin\n",
        "Pin = 123456 #@param {type: \"integer\"}\n",
        "\n",
        "\n",
        "class CRD:\n",
        "    def __init__(self):\n",
        "        os.system(\"apt update\")\n",
        "        self.installCRD()\n",
        "        self.installDesktopEnvironment()\n",
        "        self.installGoogleChorme()\n",
        "        self.finish()\n",
        "\n",
        "    @staticmethod\n",
        "    def installCRD():\n",
        "        print(\"Chrome Uzak Masaüstü Kuruluyor\")\n",
        "        subprocess.run(['wget', 'https://dl.google.com/linux/direct/chrome-remote-desktop_current_amd64.deb'], stdout=subprocess.PIPE)\n",
        "        subprocess.run(['dpkg', '--install', 'chrome-remote-desktop_current_amd64.deb'], stdout=subprocess.PIPE)\n",
        "        subprocess.run(['apt', 'install', '--assume-yes', '--fix-broken'], stdout=subprocess.PIPE)\n",
        "\n",
        "    @staticmethod\n",
        "    def installDesktopEnvironment():\n",
        "        print(\"Masaüstü Ortamı Kuruluyor\")\n",
        "        os.system(\"export DEBIAN_FRONTEND=noninteractive\")\n",
        "        os.system(\"apt install --assume-yes xfce4 desktop-base xfce4-terminal\")\n",
        "        os.system(\"bash -c 'echo \\\"exec /etc/X11/Xsession /usr/bin/xfce4-session\\\" > /etc/chrome-remote-desktop-session'\")\n",
        "        os.system(\"apt remove --assume-yes gnome-terminal\")\n",
        "        os.system(\"apt install --assume-yes xscreensaver\")\n",
        "        os.system(\"systemctl disable lightdm.service\")\n",
        "\n",
        "    @staticmethod\n",
        "    def installGoogleChorme():\n",
        "        print(\"Google Chrome Kuruluyor\")\n",
        "        subprocess.run([\"wget\", \"https://dl.google.com/linux/direct/google-chrome-stable_current_amd64.deb\"], stdout=subprocess.PIPE)\n",
        "        subprocess.run([\"dpkg\", \"--install\", \"google-chrome-stable_current_amd64.deb\"], stdout=subprocess.PIPE)\n",
        "        subprocess.run(['apt', 'install', '--assume-yes', '--fix-broken'], stdout=subprocess.PIPE)\n",
        "\n",
        "    @staticmethod\n",
        "    def finish():\n",
        "        print(\"Sonlandırılıyor\")\n",
        "        os.system(f\"adduser {username} chrome-remote-desktop\")\n",
        "        command = f\"{CRP} --pin={Pin}\"\n",
        "        os.system(f\"su - {username} -c '{command}'\")\n",
        "        os.system(\"service chrome-remote-desktop start\")\n",
        "        print(\"Başarıyla Sonlandırıldı\")\n",
        "\n",
        "\n",
        "try:\n",
        "    if username:\n",
        "        if CRP == \"\":\n",
        "            print(\"Lütfen verilen bağlantıdan kimlik doğrulama kodunu girin\")\n",
        "        elif len(str(Pin)) < 6:\n",
        "            print(\"Lütfen 6 ya da daha fazla sayıdan oluşan bir PIN girin\")\n",
        "        else:\n",
        "            CRD()\n",
        "except NameError as e:\n",
        "    print(\"Kullanıcı adı bulunamadı\")\n",
        "    print(\"Öncelikle kullanıcı oluşturun\")"
      ],
      "execution_count": null,
      "outputs": []
    },
    {
      "cell_type": "code",
      "metadata": {
        "id": "vk2qtOTGIFsQ",
        "cellView": "form"
      },
      "source": [
        "#@title **Google Drive Bağlantısı**\n",
        "#@markdown Google Drive dosyalar için HDD görevi görecektir.<br>\n",
        "\n",
        "def MountGDrive():\n",
        "    from google.colab import drive\n",
        "\n",
        "    ! runuser -l $user -c \"yes | python3 -m pip install --user google-colab\"  > /dev/null 2>&1\n",
        "\n",
        "    mount = \"\"\"from os import environ as env\n",
        "from google.colab import drive\n",
        "\n",
        "env['CLOUDSDK_CONFIG']  = '/content/.config'\n",
        "drive.mount('{}')\"\"\".format(mountpoint)\n",
        "\n",
        "    with open('/content/mount.py', 'w') as script:\n",
        "        script.write(mount)\n",
        "\n",
        "    ! runuser -l $user -c \"python3 /content/mount.py\"\n",
        "\n",
        "try:\n",
        "    if username:\n",
        "        mountpoint = \"/home/\"+username+\"/drive\"\n",
        "        user = username\n",
        "except NameError:\n",
        "    print(\"Kullanıcı adı bulunamadı, `/content/drive' adresine `root' kullanıcısını kullanarak bağlanılıyor.\")\n",
        "    mountpoint = '/content/drive'\n",
        "    user = 'root'\n",
        "\n",
        "MountGDrive()"
      ],
      "execution_count": null,
      "outputs": []
    },
    {
      "cell_type": "code",
      "metadata": {
        "id": "UoeBdz6_KE6a",
        "cellView": "form"
      },
      "source": [
        "#@title **Colab Sonlandırma**\n",
        "\n",
        "#@markdown NGROK Tünelini Kapat\n",
        "NGROK = False #@param {type:'boolean'}\n",
        "\n",
        "#@markdown GDrive Bağlantısını Kes\n",
        "GDrive = False #@param {type:'boolean'}\n",
        "\n",
        "#@markdown Colab'ı Uyut\n",
        "Sleep = True #@param {type:'boolean'}\n",
        "\n",
        "if NGROK:\n",
        "    ! killall ngrok\n",
        "\n",
        "if GDrive:\n",
        "    with open('/content/unmount.py', 'w') as unmount:\n",
        "        unmount.write(\"\"\"from google.colab import drive\n",
        "drive.flush_and_unmount()\"\"\")\n",
        "    \n",
        "    try:\n",
        "        if user:\n",
        "            ! runuser $user -c 'python3 /content/unmount.py'\n",
        "    except NameError:\n",
        "        print(\"Google Drive Bağlanmamış!\")\n",
        "\n",
        "if Sleep:\n",
        "    from time import sleep\n",
        "    sleep(43200)"
      ],
      "execution_count": null,
      "outputs": []
    }
  ]
}
